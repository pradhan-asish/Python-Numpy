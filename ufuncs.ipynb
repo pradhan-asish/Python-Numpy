{
 "cells": [
  {
   "cell_type": "markdown",
   "id": "7b7f0838",
   "metadata": {},
   "source": [
    "##Ufuncs Numpy"
   ]
  },
  {
   "cell_type": "code",
   "execution_count": 3,
   "id": "e7464f31",
   "metadata": {},
   "outputs": [
    {
     "name": "stdout",
     "output_type": "stream",
     "text": [
      "[14 34  8 56]\n"
     ]
    }
   ],
   "source": [
    "##Sum of two arrays\n",
    "import numpy as np\n",
    "\n",
    "x = [2,3,4,5]\n",
    "y = [12,31,4,51]\n",
    "\n",
    "z = np.add(x,y) ## Sum of two arrays\n",
    "\n",
    "print(z)"
   ]
  },
  {
   "cell_type": "code",
   "execution_count": 15,
   "id": "2999ed0d",
   "metadata": {},
   "outputs": [
    {
     "name": "stdout",
     "output_type": "stream",
     "text": [
      "<class 'numpy.ufunc'>\n",
      "[6 8 10 12]\n"
     ]
    }
   ],
   "source": [
    "##Create Function\n",
    "import numpy as np\n",
    "\n",
    "def myadd(x, y):\n",
    "    return x+y\n",
    "\n",
    "myadd = np.frompyfunc(myadd, 2, 1)####Sum of two addition\n",
    "\n",
    "print(type(myadd))\n",
    "print(myadd([1, 2, 3, 4], [5, 6, 7, 8]))"
   ]
  },
  {
   "cell_type": "markdown",
   "id": "6700a0af",
   "metadata": {},
   "source": [
    "##Arithmetic"
   ]
  },
  {
   "cell_type": "code",
   "execution_count": null,
   "id": "f9b6af53",
   "metadata": {},
   "outputs": [],
   "source": [
    "## Add\n",
    "import numpy as np\n",
    "arr1 = np.array([101,2,3])\n",
    "arr2 = np.array([101,101,102])\n",
    "\n",
    "arr3 = np.add(arr1,arr2)\n",
    "\n",
    "print(arr3)"
   ]
  }
 ],
 "metadata": {
  "kernelspec": {
   "display_name": "Python 3",
   "language": "python",
   "name": "python3"
  },
  "language_info": {
   "codemirror_mode": {
    "name": "ipython",
    "version": 3
   },
   "file_extension": ".py",
   "mimetype": "text/x-python",
   "name": "python",
   "nbconvert_exporter": "python",
   "pygments_lexer": "ipython3",
   "version": "3.8.8"
  }
 },
 "nbformat": 4,
 "nbformat_minor": 5
}
