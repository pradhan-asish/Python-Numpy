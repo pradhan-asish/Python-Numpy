{
 "cells": [
  {
   "cell_type": "markdown",
   "id": "b3d65d7e",
   "metadata": {},
   "source": [
    "##Ufuncs Numpy"
   ]
  },
  {
   "cell_type": "code",
   "execution_count": 3,
   "id": "780b05d9",
   "metadata": {},
   "outputs": [
    {
     "name": "stdout",
     "output_type": "stream",
     "text": [
      "[14 34  8 56]\n"
     ]
    }
   ],
   "source": [
    "##Sum of two arrays\n",
    "import numpy as np\n",
    "\n",
    "x = [2,3,4,5]\n",
    "y = [12,31,4,51]\n",
    "\n",
    "z = np.add(x,y)\n",
    "\n",
    "print(z)"
   ]
  },
  {
   "cell_type": "code",
   "execution_count": null,
   "id": "bd7674d4",
   "metadata": {},
   "outputs": [],
   "source": []
  }
 ],
 "metadata": {
  "kernelspec": {
   "display_name": "Python 3",
   "language": "python",
   "name": "python3"
  },
  "language_info": {
   "codemirror_mode": {
    "name": "ipython",
    "version": 3
   },
   "file_extension": ".py",
   "mimetype": "text/x-python",
   "name": "python",
   "nbconvert_exporter": "python",
   "pygments_lexer": "ipython3",
   "version": "3.8.8"
  }
 },
 "nbformat": 4,
 "nbformat_minor": 5
}
