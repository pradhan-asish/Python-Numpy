{
 "cells": [
  {
   "cell_type": "markdown",
   "id": "43da128d",
   "metadata": {},
   "source": [
    "----Probability Data Distribution"
   ]
  },
  {
   "cell_type": "code",
   "execution_count": 3,
   "id": "944ed7b8",
   "metadata": {},
   "outputs": [
    {
     "name": "stdout",
     "output_type": "stream",
     "text": [
      "[9 5 5 5 5 7 5 5 9 7 7 9 7 9 7 3 9 9 3 7 7 7 9 7 7 7 5 7 7 5 7 5 7 5 7 7 5\n",
      " 5 7 7 5 3 5 7 7 5 5 9 5 5 9 7 5 3 7 7 7 5 7 9 7 7 7 3 3 7 7 7 7 7 5 5 5 5\n",
      " 7 9 5 5 5 9 5 9 7 9 5 9 7 9 5 5 5 7 7 7 7 7 7 7 7 3]\n"
     ]
    }
   ],
   "source": [
    "from numpy import random\n",
    "\n",
    "x = random.choice([3, 5, 7, 9], p=[0.1, 0.3, 0.4, 0.2], size=(100))\n",
    "\n",
    "print(x)"
   ]
  },
  {
   "cell_type": "code",
   "execution_count": null,
   "id": "49865066",
   "metadata": {},
   "outputs": [],
   "source": []
  }
 ],
 "metadata": {
  "kernelspec": {
   "display_name": "Python 3",
   "language": "python",
   "name": "python3"
  },
  "language_info": {
   "codemirror_mode": {
    "name": "ipython",
    "version": 3
   },
   "file_extension": ".py",
   "mimetype": "text/x-python",
   "name": "python",
   "nbconvert_exporter": "python",
   "pygments_lexer": "ipython3",
   "version": "3.8.8"
  }
 },
 "nbformat": 4,
 "nbformat_minor": 5
}
