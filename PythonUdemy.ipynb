{
 "cells": [
  {
   "cell_type": "markdown",
   "id": "ff9d3c95",
   "metadata": {},
   "source": [
    "Udemy Numpy"
   ]
  },
  {
   "cell_type": "code",
   "execution_count": 16,
   "id": "65f36658",
   "metadata": {},
   "outputs": [
    {
     "name": "stdout",
     "output_type": "stream",
     "text": [
      "[[2 4 6]\n",
      " [2 1 5]\n",
      " [4 3 2]]\n"
     ]
    }
   ],
   "source": [
    "import numpy\n",
    "n = [[2,4,6],[2,1,5],[4,3,2]]\n",
    "narray = numpy.array(n)\n",
    "print(narray)"
   ]
  },
  {
   "cell_type": "code",
   "execution_count": 17,
   "id": "8aabd188",
   "metadata": {},
   "outputs": [
    {
     "data": {
      "text/plain": [
       "array([1., 1., 1., 1.])"
      ]
     },
     "execution_count": 17,
     "metadata": {},
     "output_type": "execute_result"
    }
   ],
   "source": [
    "import numpy as np\n",
    "np.ones(4)"
   ]
  },
  {
   "cell_type": "code",
   "execution_count": null,
   "id": "487f36cf",
   "metadata": {},
   "outputs": [],
   "source": []
  }
 ],
 "metadata": {
  "kernelspec": {
   "display_name": "Python 3",
   "language": "python",
   "name": "python3"
  },
  "language_info": {
   "codemirror_mode": {
    "name": "ipython",
    "version": 3
   },
   "file_extension": ".py",
   "mimetype": "text/x-python",
   "name": "python",
   "nbconvert_exporter": "python",
   "pygments_lexer": "ipython3",
   "version": "3.8.8"
  }
 },
 "nbformat": 4,
 "nbformat_minor": 5
}
