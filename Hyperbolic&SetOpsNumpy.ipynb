{
 "cells": [
  {
   "cell_type": "markdown",
   "id": "47d0b640",
   "metadata": {},
   "source": [
    "##Hyperbolic"
   ]
  },
  {
   "cell_type": "code",
   "execution_count": 4,
   "id": "3efae51f",
   "metadata": {},
   "outputs": [
    {
     "name": "stdout",
     "output_type": "stream",
     "text": [
      "2.3012989023072947\n",
      "[2.50917848 1.60028686 1.32460909 1.20397209]\n"
     ]
    }
   ],
   "source": [
    "##sinh \n",
    "import numpy as np\n",
    "x = np.sinh(np.pi/2)\n",
    "print(x)\n",
    "arr = np.array([np.pi/2, np.pi/3, np.pi/4, np.pi/5])\n",
    "x1 = np.cosh(arr)\n",
    "print(x1)"
   ]
  },
  {
   "cell_type": "code",
   "execution_count": 7,
   "id": "ba5630e4",
   "metadata": {},
   "outputs": [
    {
     "name": "stdout",
     "output_type": "stream",
     "text": [
      "0.881373587019543\n",
      "[0.10033535 0.20273255 0.54930614]\n"
     ]
    }
   ],
   "source": [
    "##Finding angles\n",
    "import numpy as np\n",
    "x = np.arcsinh(1.0)\n",
    "print(x)\n",
    "arr = np.array([0.1, 0.2, 0.5])\n",
    "\n",
    "x = np.arctanh(arr)\n",
    "\n",
    "print(x)"
   ]
  },
  {
   "cell_type": "markdown",
   "id": "4db6347b",
   "metadata": {},
   "source": [
    "##Sets"
   ]
  },
  {
   "cell_type": "code",
   "execution_count": 8,
   "id": "1eece470",
   "metadata": {},
   "outputs": [
    {
     "name": "stdout",
     "output_type": "stream",
     "text": [
      "[1 2 3 4 5 6 7]\n"
     ]
    }
   ],
   "source": [
    "##Create a set\n",
    "import numpy as np\n",
    "arr = np.array([1, 1, 1, 2, 3, 4, 5, 5, 6, 7])\n",
    "x = np.unique(arr)\n",
    "print(x)"
   ]
  },
  {
   "cell_type": "code",
   "execution_count": null,
   "id": "1fd3eb70",
   "metadata": {},
   "outputs": [],
   "source": []
  }
 ],
 "metadata": {
  "kernelspec": {
   "display_name": "Python 3",
   "language": "python",
   "name": "python3"
  },
  "language_info": {
   "codemirror_mode": {
    "name": "ipython",
    "version": 3
   },
   "file_extension": ".py",
   "mimetype": "text/x-python",
   "name": "python",
   "nbconvert_exporter": "python",
   "pygments_lexer": "ipython3",
   "version": "3.8.8"
  }
 },
 "nbformat": 4,
 "nbformat_minor": 5
}
