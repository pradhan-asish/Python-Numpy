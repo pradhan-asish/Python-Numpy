{
 "cells": [
  {
   "cell_type": "markdown",
   "id": "57bb3fd9",
   "metadata": {},
   "source": [
    "----Binomial Distribution"
   ]
  },
  {
   "cell_type": "code",
   "execution_count": 3,
   "id": "5a8f1518",
   "metadata": {},
   "outputs": [
    {
     "name": "stdout",
     "output_type": "stream",
     "text": [
      "[52 44 53 55 46 42 44 51 49 43]\n"
     ]
    }
   ],
   "source": [
    "from numpy import random\n",
    "\n",
    "x = random.binomial(n=100, p=0.5, size=10)\n",
    "\n",
    "print(x)"
   ]
  },
  {
   "cell_type": "code",
   "execution_count": 7,
   "id": "958f96ca",
   "metadata": {},
   "outputs": [
    {
     "name": "stdout",
     "output_type": "stream",
     "text": [
      "[ 6  6  3  5  7  8  5  6  6  5  6  5  4  4  7  1  3  6  3  4  7  4  6  6\n",
      "  4  7  6  6  6  8  5  6  8  3  3  8  6  9  5  6  6  5  6  4  5  7  4  5\n",
      "  5  4  6  5  4  3  3  7  5  7  3  5  5  4  3  5  6  4  8  7  4  4  4  6\n",
      "  4  6  3  3  3  4  6  4  5  5  5  3  5  3  6  8  6  5  4  3  4  6  6  4\n",
      "  5  5  5  5  8  3  7  6  4  5  6  4  6  7  5  7  4  3  5  5  6  7  4  2\n",
      "  6  3  3  3  2  6  6  6  2  5  5  6  8  3  3  6  5  7  7  4  5  4  3  5\n",
      "  5  4  4  2  3  7  6  7  4  3  5  5  5  5  7  2  8  8  4  5  2  5  4  4\n",
      "  6  5  4  3  4  6  5  3  7  6  7  7  2  5  4  4  2  5  5  4  5  4  7  5\n",
      "  3  6  5  2  5  6  3  4  5  4  7  5  3  7  3  6  5  3  6  7  4  4  5  6\n",
      "  5  6  8  5  5  4  2  6  5  7  4  5  7  3  6  8  5  5  6  5  3  8  2  4\n",
      "  5  5  4  5  3  5  7  4  5  5  7  5  5  5  5  6  4  5  5  3  5  6  8  3\n",
      "  6  5  3  4  5  7  3  8  4  2  4  5  4  5  5  4  6  2  5  4  6  7  6  6\n",
      "  7  3  5  7  6  4  8  4  5  5  4  4  7  6  6  6  1  6  3  6  5  7  4  5\n",
      "  8  5  3  2  5  5  7  3  6  5  2  5  5  4  8  7  3  4  7  6  5  7  6  7\n",
      "  4  4  7  7  4  5  2  6  6  5  3  4  4  4  5  8  2  3  4  4  3  4  4  7\n",
      "  7  4  5  2  6  6  3  5  5  4  6  6  6  4  1  2  5  5  8  5  5  6  4  6\n",
      "  5  2  3  7  3  4  4  5  2  8  8  8  3  5  6  7  3  5  7  7  2  6  4  7\n",
      "  6  5  2  3  2  6  7  4  6  8  5  5  7  3  5  6  6  4  5  6  5  5  3  5\n",
      "  5  2  4  4  4  6  5  4  5  6  4  8  2  9  3  4  4  3  3  2  5  5  3  6\n",
      "  5  3  4  3  6  6  7  2  3  6  4  4  7  7  5  4  7  4  4  6  4  6  4  2\n",
      "  6  2  6  8  7  5  3  5  6  2  5  6  5  6  6  7  8  5  4  6  4  6  8  8\n",
      "  5  8  5  3  8  5  2  7  6  5  1  7  6  6  5  6  3  4  5  4  3  8  5  5\n",
      "  2  3  6  7  7  7  4  4  6  5  7  4  5  5  5  4  5  5  5  3  3  6  7  2\n",
      "  4  2  4  5  6  6  5  4  5  3  4  5  5  6  7  2  5  7  6  5  5  2  7  3\n",
      "  6  6  4  4  7  7  6  4  5  5  5  5  5  6  6  4  6  4  7  5  6  5  6  6\n",
      "  2  6  5  7  4  3  5  6  7  3  4  6  7  6  4  5  5  6  4  2  5  6  3  7\n",
      "  6  5  5  4  5  5  3  3  5  6  3  7  5  5  4  6  2  8  7  6  5  5  6  5\n",
      "  4  5  8  3  6  5  2  8  4  5  4  4  3  4  5  6  2  2  6  4  2  5  7  7\n",
      "  7  4  4  3  6  4  5  3  4  6  7  6  5  3  6  4  6  4  4  8  6  6  5  7\n",
      "  5  6  6  4  5  4  6  4  4  6  5  3  5  5  3  5  6  5  5  7  6  5  7  4\n",
      "  5  5  4  6  8  5  3  3  5  6  4  3  4  3  4  8  2  5  3  6  6  5  4  4\n",
      "  3  5  5  5  5  5  5  3  5  2  4  5  6  5  6  6  3  7  8  6  6  3  5  5\n",
      "  7  6  4  7  3  4  3  7  5  8  7  2  6  4  4  3  2  3  6  4  9  5  1  7\n",
      "  4  7  5  6  3  5  2  5  4  7  4  6  7  4  3  4  4  5  6  6  5  7  6  5\n",
      "  2  5  4  7  5  4  5  6  3  2  6  3  4  5  5  4  5  4  5  6  4  5  5  6\n",
      "  5  6  5  6  6  7  9  5  6  3  6  6  5  4  6  4  5  4  4  3  4  5  4  5\n",
      "  8  4  5  6  4  6  6  3  4  2  9  6  7  5  6  4  5  7  4  8  8  1  4  6\n",
      "  5  6  6  2  4  7  8  5  5  5  6  6  7  5  7  6  6  3  6  8 10  4  3  5\n",
      "  3  4  4  3  4  6  5  5  5  4  2  6  4  7  2  6  7  6  9  3  4  3  6  4\n",
      "  4  3  5  2  2  6  5  5  4  3  5  6  4  5  7  7  8  5  6  5  4  0  4  5\n",
      "  4  5  3  9  3  4  6  5  2  6  8  7  2  4  3  4  4  3  5  5  3  5  3  2\n",
      "  7  5  5  4  4  5  4  3  8  2  4  5  5  7  6  5]\n"
     ]
    },
    {
     "data": {
      "image/png": "[encoded data removed]",
      "text/plain": [
       "<Figure size 432x288 with 1 Axes>"
      ]
     },
     "metadata": {
      "needs_background": "light"
     },
     "output_type": "display_data"
    }
   ],
   "source": [
    "##Plotting\n",
    "\n",
    "from numpy import random\n",
    "import matplotlib.pyplot as plt\n",
    "import seaborn as sns\n",
    "x= random.binomial(n=10, p=0.5, size=1000)\n",
    "sns.distplot(x, hist=True, kde=False)\n",
    "print(x)\n",
    "plt.show()"
   ]
  },
  {
   "cell_type": "code",
   "execution_count": null,
   "id": "dfa07fe2",
   "metadata": {},
   "outputs": [],
   "source": []
  }
 ],
 "metadata": {
  "kernelspec": {
   "display_name": "Python 3",
   "language": "python",
   "name": "python3"
  },
  "language_info": {
   "codemirror_mode": {
    "name": "ipython",
    "version": 3
   },
   "file_extension": ".py",
   "mimetype": "text/x-python",
   "name": "python",
   "nbconvert_exporter": "python",
   "pygments_lexer": "ipython3",
   "version": "3.8.8"
  }
 },
 "nbformat": 4,
 "nbformat_minor": 5
}
