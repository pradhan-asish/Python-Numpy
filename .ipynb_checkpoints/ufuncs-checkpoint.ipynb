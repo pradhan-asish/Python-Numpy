{
 "cells": [
  {
   "cell_type": "markdown",
   "id": "bed628d9",
   "metadata": {},
   "source": [
    "##Ufuncs Numpy"
   ]
  },
  {
   "cell_type": "code",
   "execution_count": 3,
   "id": "367470de",
   "metadata": {},
   "outputs": [
    {
     "name": "stdout",
     "output_type": "stream",
     "text": [
      "[14 34  8 56]\n"
     ]
    }
   ],
   "source": [
    "##Sum of two arrays\n",
    "import numpy as np\n",
    "\n",
    "x = [2,3,4,5]\n",
    "y = [12,31,4,51]\n",
    "\n",
    "z = np.add(x,y) ## Sum of two arrays\n",
    "\n",
    "print(z)"
   ]
  },
  {
   "cell_type": "code",
   "execution_count": 15,
   "id": "119f25fe",
   "metadata": {},
   "outputs": [
    {
     "name": "stdout",
     "output_type": "stream",
     "text": [
      "<class 'numpy.ufunc'>\n",
      "[6 8 10 12]\n"
     ]
    }
   ],
   "source": [
    "##Create Function\n",
    "import numpy as np\n",
    "\n",
    "def myadd(x, y):\n",
    "    return x+y\n",
    "\n",
    "myadd = np.frompyfunc(myadd, 2, 1)####Sum of two addition\n",
    "\n",
    "print(type(myadd))\n",
    "print(myadd([1, 2, 3, 4], [5, 6, 7, 8]))"
   ]
  },
  {
   "cell_type": "markdown",
   "id": "64ba84fc",
   "metadata": {},
   "source": [
    "##Arithmetic"
   ]
  },
  {
   "cell_type": "code",
   "execution_count": 27,
   "id": "ee868f56",
   "metadata": {},
   "outputs": [
    {
     "name": "stdout",
     "output_type": "stream",
     "text": [
      "[102 103 105]\n",
      "[100  99  99]\n",
      "[101 202 306]\n",
      "[101.   50.5  34. ]\n",
      "[    101   10201 1061208]\n",
      "[0 1 0]\n",
      "(array([0, 0, 0], dtype=int32), array([1, 2, 3], dtype=int32))\n",
      "[1 2 1 2 3 4]\n"
     ]
    }
   ],
   "source": [
    "9## Add\n",
    "import numpy as np\n",
    "arr1 = np.array([1,2,3])\n",
    "arr2 = np.array([101,101,102])\n",
    "arr3 = np.add(arr1,arr2)\n",
    "print(arr3)\n",
    "##Substract\n",
    "arr4 = np.subtract(arr2,arr1)\n",
    "print(arr4)\n",
    "##Multiply\n",
    "arr5 = np.multiply(arr1,arr2)\n",
    "print(arr5)\n",
    "##Divide\n",
    "arr6 = np.divide(arr2,arr1)\n",
    "print(arr6)\n",
    "##Power\n",
    "arr7 = np.power(arr2,arr1)\n",
    "print(arr7)\n",
    "##Remainder\n",
    "arr8 = np.mod(arr2, arr1)\n",
    "print(arr8)\n",
    "##QuotientAndMod\n",
    "arr9 = np.divmod(arr1, arr2)\n",
    "print(arr9)\n",
    "##Absolute\n",
    "arr = np.array([-1, -2, 1, 2, 3, -4])\n",
    "arr10 = np.absolute(arr)\n",
    "print(arr10)"
   ]
  },
  {
   "cell_type": "code",
   "execution_count": 33,
   "id": "b04b1fa4",
   "metadata": {},
   "outputs": [
    {
     "name": "stdout",
     "output_type": "stream",
     "text": [
      "[-3.  3.]\n",
      "[-3.  3.]\n",
      "3.17\n",
      "[-4.  3.]\n",
      "[-3.  4.]\n"
     ]
    }
   ],
   "source": [
    "##Rounding Decimals\n",
    "##Truncation\n",
    "import numpy as np\n",
    "arr1 = np.trunc([-3.1666, 3.6667])\n",
    "print(arr1)\n",
    "arr2 = np.fix([-3.1666, 3.6667])\n",
    "print(arr2)\n",
    "##Round\n",
    "arr3 = np.around(3.1666, 2)\n",
    "print(arr3)\n",
    "##Floor\n",
    "arr4 = np.floor([-3.1666, 3.6667])\n",
    "print(arr4)\n",
    "##Ceil\n",
    "arr5 = np.ceil([-3.1666, 3.6667])\n",
    "print(arr5)"
   ]
  },
  {
   "cell_type": "code",
   "execution_count": 35,
   "id": "49125301",
   "metadata": {},
   "outputs": [
    {
     "name": "stdout",
     "output_type": "stream",
     "text": [
      "[0.         1.         1.5849625  2.         2.32192809 2.5849625\n",
      " 2.80735492 3.         3.169925  ]\n"
     ]
    }
   ],
   "source": [
    "##Logarthmic\n",
    "import numpy as np\n",
    "##Log  at Base 2\n",
    "arr = np.arange(1, 10)\n",
    "print(np.log2(arr))\n",
    "##Log  at Base 10\n",
    "arr = np.arange(1, 10)\n",
    "print(np.log10(arr))\n"
   ]
  },
  {
   "cell_type": "code",
   "execution_count": null,
   "id": "f91e61c4",
   "metadata": {},
   "outputs": [],
   "source": []
  }
 ],
 "metadata": {
  "kernelspec": {
   "display_name": "Python 3",
   "language": "python",
   "name": "python3"
  },
  "language_info": {
   "codemirror_mode": {
    "name": "ipython",
    "version": 3
   },
   "file_extension": ".py",
   "mimetype": "text/x-python",
   "name": "python",
   "nbconvert_exporter": "python",
   "pygments_lexer": "ipython3",
   "version": "3.8.8"
  }
 },
 "nbformat": 4,
 "nbformat_minor": 5
}
