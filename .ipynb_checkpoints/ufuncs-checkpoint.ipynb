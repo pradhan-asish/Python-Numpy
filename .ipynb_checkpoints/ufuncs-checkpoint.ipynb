{
 "cells": [
  {
   "cell_type": "markdown",
   "id": "6bbb2400",
   "metadata": {},
   "source": [
    "##Ufuncs Numpy"
   ]
  },
  {
   "cell_type": "code",
   "execution_count": 3,
   "id": "1d48e2b0",
   "metadata": {},
   "outputs": [
    {
     "name": "stdout",
     "output_type": "stream",
     "text": [
      "[14 34  8 56]\n"
     ]
    }
   ],
   "source": [
    "##Sum of two arrays\n",
    "import numpy as np\n",
    "\n",
    "x = [2,3,4,5]\n",
    "y = [12,31,4,51]\n",
    "\n",
    "z = np.add(x,y) ## Sum of two arrays\n",
    "\n",
    "print(z)"
   ]
  },
  {
   "cell_type": "code",
   "execution_count": 15,
   "id": "4e5ed040",
   "metadata": {},
   "outputs": [
    {
     "name": "stdout",
     "output_type": "stream",
     "text": [
      "<class 'numpy.ufunc'>\n",
      "[6 8 10 12]\n"
     ]
    }
   ],
   "source": [
    "##Create Function\n",
    "import numpy as np\n",
    "\n",
    "def myadd(x, y):\n",
    "    return x+y\n",
    "\n",
    "myadd = np.frompyfunc(myadd, 2, 1)####Sum of two addition\n",
    "\n",
    "print(type(myadd))\n",
    "print(myadd([1, 2, 3, 4], [5, 6, 7, 8]))"
   ]
  },
  {
   "cell_type": "code",
   "execution_count": null,
   "id": "05f75061",
   "metadata": {},
   "outputs": [],
   "source": []
  },
  {
   "cell_type": "code",
   "execution_count": null,
   "id": "f05433f0",
   "metadata": {},
   "outputs": [],
   "source": []
  }
 ],
 "metadata": {
  "kernelspec": {
   "display_name": "Python 3",
   "language": "python",
   "name": "python3"
  },
  "language_info": {
   "codemirror_mode": {
    "name": "ipython",
    "version": 3
   },
   "file_extension": ".py",
   "mimetype": "text/x-python",
   "name": "python",
   "nbconvert_exporter": "python",
   "pygments_lexer": "ipython3",
   "version": "3.8.8"
  }
 },
 "nbformat": 4,
 "nbformat_minor": 5
}
