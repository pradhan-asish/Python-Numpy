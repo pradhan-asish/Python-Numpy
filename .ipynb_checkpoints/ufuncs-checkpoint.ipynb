{
 "cells": [
  {
   "cell_type": "markdown",
   "id": "9b944efe",
   "metadata": {},
   "source": [
    "##Ufuncs Numpy"
   ]
  },
  {
   "cell_type": "code",
   "execution_count": 3,
   "id": "0c747fae",
   "metadata": {},
   "outputs": [
    {
     "name": "stdout",
     "output_type": "stream",
     "text": [
      "[14 34  8 56]\n"
     ]
    }
   ],
   "source": [
    "##Sum of two arrays\n",
    "import numpy as np\n",
    "\n",
    "x = [2,3,4,5]\n",
    "y = [12,31,4,51]\n",
    "\n",
    "z = np.add(x,y) ## Sum of two arrays\n",
    "\n",
    "print(z)"
   ]
  },
  {
   "cell_type": "code",
   "execution_count": 15,
   "id": "b9535df2",
   "metadata": {},
   "outputs": [
    {
     "name": "stdout",
     "output_type": "stream",
     "text": [
      "<class 'numpy.ufunc'>\n",
      "[6 8 10 12]\n"
     ]
    }
   ],
   "source": [
    "##Create Function\n",
    "import numpy as np\n",
    "\n",
    "def myadd(x, y):\n",
    "    return x+y\n",
    "\n",
    "myadd = np.frompyfunc(myadd, 2, 1)####Sum of two addition\n",
    "\n",
    "print(type(myadd))\n",
    "print(myadd([1, 2, 3, 4], [5, 6, 7, 8]))"
   ]
  },
  {
   "cell_type": "markdown",
   "id": "34dfca73",
   "metadata": {},
   "source": [
    "##Arithmetic"
   ]
  },
  {
   "cell_type": "code",
   "execution_count": 27,
   "id": "1cb85856",
   "metadata": {},
   "outputs": [
    {
     "name": "stdout",
     "output_type": "stream",
     "text": [
      "[102 103 105]\n",
      "[100  99  99]\n",
      "[101 202 306]\n",
      "[101.   50.5  34. ]\n",
      "[    101   10201 1061208]\n",
      "[0 1 0]\n",
      "(array([0, 0, 0], dtype=int32), array([1, 2, 3], dtype=int32))\n",
      "[1 2 1 2 3 4]\n"
     ]
    }
   ],
   "source": [
    "9## Add\n",
    "import numpy as np\n",
    "arr1 = np.array([1,2,3])\n",
    "arr2 = np.array([101,101,102])\n",
    "arr3 = np.add(arr1,arr2)\n",
    "print(arr3)\n",
    "##Substract\n",
    "arr4 = np.subtract(arr2,arr1)\n",
    "print(arr4)\n",
    "##Multiply\n",
    "arr5 = np.multiply(arr1,arr2)\n",
    "print(arr5)\n",
    "##Divide\n",
    "arr6 = np.divide(arr2,arr1)\n",
    "print(arr6)\n",
    "##Power\n",
    "arr7 = np.power(arr2,arr1)\n",
    "print(arr7)\n",
    "##Remainder\n",
    "arr8 = np.mod(arr2, arr1)\n",
    "print(arr8)\n",
    "##QuotientAndMod\n",
    "arr9 = np.divmod(arr1, arr2)\n",
    "print(arr9)\n",
    "##Absolute\n",
    "arr = np.array([-1, -2, 1, 2, 3, -4])\n",
    "arr10 = np.absolute(arr)\n",
    "print(arr10)"
   ]
  },
  {
   "cell_type": "code",
   "execution_count": 33,
   "id": "8434a972",
   "metadata": {},
   "outputs": [
    {
     "name": "stdout",
     "output_type": "stream",
     "text": [
      "[-3.  3.]\n",
      "[-3.  3.]\n",
      "3.17\n",
      "[-4.  3.]\n",
      "[-3.  4.]\n"
     ]
    }
   ],
   "source": [
    "##Rounding Decimals\n",
    "##Truncation\n",
    "import numpy as np\n",
    "arr1 = np.trunc([-3.1666, 3.6667])\n",
    "print(arr1)\n",
    "arr2 = np.fix([-3.1666, 3.6667])\n",
    "print(arr2)\n",
    "##Round\n",
    "arr3 = np.around(3.1666, 2)\n",
    "print(arr3)\n",
    "##Floor\n",
    "arr4 = np.floor([-3.1666, 3.6667])\n",
    "print(arr4)\n",
    "##Ceil\n",
    "arr5 = np.ceil([-3.1666, 3.6667])\n",
    "print(arr5)"
   ]
  },
  {
   "cell_type": "code",
   "execution_count": 39,
   "id": "91c698f9",
   "metadata": {},
   "outputs": [
    {
     "name": "stdout",
     "output_type": "stream",
     "text": [
      "[0.         1.         1.5849625  2.         2.32192809 2.5849625\n",
      " 2.80735492 3.         3.169925  ]\n",
      "[0.         0.30103    0.47712125 0.60205999 0.69897    0.77815125\n",
      " 0.84509804 0.90308999 0.95424251]\n",
      "[0.         0.69314718 1.09861229 1.38629436 1.60943791 1.79175947\n",
      " 1.94591015 2.07944154 2.19722458]\n",
      "1.7005483074552052\n"
     ]
    }
   ],
   "source": [
    "##Logarthmic\n",
    "import numpy as np\n",
    "from math import log\n",
    "\n",
    "##Log  at Base 2\n",
    "arr = np.arange(1, 10)\n",
    "print(np.log2(arr))\n",
    "##Log  at Base 10\n",
    "arr = np.arange(1, 10)\n",
    "print(np.log10(arr))\n",
    "##Natural Log or Log at Base e\n",
    "arr = np.arange(1, 10)\n",
    "print(np.log(arr))\n",
    "##Log at Any Base\n",
    "nplog = np.frompyfunc(log, 2, 1)\n",
    "print(nplog(100, 15))"
   ]
  },
  {
   "cell_type": "code",
   "execution_count": 43,
   "id": "45a8380e",
   "metadata": {
    "scrolled": true
   },
   "outputs": [
    {
     "name": "stdout",
     "output_type": "stream",
     "text": [
      "[2 4 6]\n",
      "[6 6]\n",
      "[1 3 6]\n"
     ]
    }
   ],
   "source": [
    "##Summations\n",
    "import numpy as np\n",
    "\n",
    "##Add\n",
    "arr1 = np.array([1, 2, 3])\n",
    "arr2 = np.array([1, 2, 3])\n",
    "newarr1 = np.add(arr1, arr2)\n",
    "print(newarr1)\n",
    "##Sum\n",
    "newarr2 = np.sum([arr1, arr2],axis=1)\n",
    "print(newarr2)\n",
    "##Cummulative Summation\n",
    "arr = np.array([1, 2, 3])\n",
    "newarr3 = np.cumsum(arr)\n",
    "print(newarr3)\n"
   ]
  },
  {
   "cell_type": "code",
   "execution_count": 46,
   "id": "99b167bc",
   "metadata": {},
   "outputs": [
    {
     "name": "stdout",
     "output_type": "stream",
     "text": [
      "24\n",
      "[  24 1680]\n",
      "[   5   30  210 1680]\n"
     ]
    }
   ],
   "source": [
    "##Product\n",
    "import numpy as np\n",
    "\n",
    "##Product\n",
    "arr1 = np.array([1, 2, 3, 4])\n",
    "x = np.prod(arr1)\n",
    "print(x)\n",
    "\n",
    "##Product over an axis\n",
    "arr1 = np.array([1, 2, 3, 4])\n",
    "arr2 = np.array([5, 6, 7, 8])\n",
    "arr3 = np.prod([arr1, arr2], axis=1)\n",
    "print(arr3)\n",
    "\n",
    "##Cummulative Product\n",
    "arr4 = np.array([5, 6, 7, 8])\n",
    "arr5 = np.cumprod(arr4)\n",
    "print(arr5)"
   ]
  },
  {
   "cell_type": "code",
   "execution_count": null,
   "id": "85a4019c",
   "metadata": {},
   "outputs": [],
   "source": []
  }
 ],
 "metadata": {
  "kernelspec": {
   "display_name": "Python 3",
   "language": "python",
   "name": "python3"
  },
  "language_info": {
   "codemirror_mode": {
    "name": "ipython",
    "version": 3
   },
   "file_extension": ".py",
   "mimetype": "text/x-python",
   "name": "python",
   "nbconvert_exporter": "python",
   "pygments_lexer": "ipython3",
   "version": "3.8.8"
  }
 },
 "nbformat": 4,
 "nbformat_minor": 5
}
