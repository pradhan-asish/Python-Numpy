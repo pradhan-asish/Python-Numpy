{
 "cells": [
  {
   "cell_type": "markdown",
   "id": "3348567f",
   "metadata": {},
   "source": [
    "##Ufuncs Numpy"
   ]
  },
  {
   "cell_type": "code",
   "execution_count": 3,
   "id": "69176fe7",
   "metadata": {},
   "outputs": [
    {
     "name": "stdout",
     "output_type": "stream",
     "text": [
      "[14 34  8 56]\n"
     ]
    }
   ],
   "source": [
    "##Sum of two arrays\n",
    "import numpy as np\n",
    "\n",
    "x = [2,3,4,5]\n",
    "y = [12,31,4,51]\n",
    "\n",
    "z = np.add(x,y) ## Sum of two arrays\n",
    "\n",
    "print(z)"
   ]
  },
  {
   "cell_type": "code",
   "execution_count": 15,
   "id": "ce69fa8d",
   "metadata": {},
   "outputs": [
    {
     "name": "stdout",
     "output_type": "stream",
     "text": [
      "<class 'numpy.ufunc'>\n",
      "[6 8 10 12]\n"
     ]
    }
   ],
   "source": [
    "##Create Function\n",
    "import numpy as np\n",
    "\n",
    "def myadd(x, y):\n",
    "    return x+y\n",
    "\n",
    "myadd = np.frompyfunc(myadd, 2, 1)####Sum of two addition\n",
    "\n",
    "print(type(myadd))\n",
    "print(myadd([1, 2, 3, 4], [5, 6, 7, 8]))"
   ]
  },
  {
   "cell_type": "markdown",
   "id": "21f02bcf",
   "metadata": {},
   "source": [
    "##Arithmetic"
   ]
  },
  {
   "cell_type": "code",
   "execution_count": 26,
   "id": "54191ed4",
   "metadata": {},
   "outputs": [
    {
     "name": "stdout",
     "output_type": "stream",
     "text": [
      "[102 103 105]\n",
      "[100  99  99]\n",
      "[101 202 306]\n",
      "[101.   50.5  34. ]\n",
      "[    101   10201 1061208]\n",
      "[0 1 0]\n",
      "(array([0, 0, 0], dtype=int32), array([1, 2, 3], dtype=int32))\n"
     ]
    }
   ],
   "source": [
    "9## Add\n",
    "import numpy as np\n",
    "arr1 = np.array([1,2,3])\n",
    "arr2 = np.array([101,101,102])\n",
    "\n",
    "arr3 = np.add(arr1,arr2)\n",
    "\n",
    "print(arr3)\n",
    "##Substract\n",
    "arr4 = np.subtract(arr2,arr1)\n",
    "\n",
    "print(arr4)\n",
    "##Multiply\n",
    "arr5 = np.multiply(arr1,arr2)\n",
    "print(arr5)\n",
    "##Divide\n",
    "arr6 = np.divide(arr2,arr1)\n",
    "print(arr6)\n",
    "##Power\n",
    "arr7 = np.power(arr2,arr1)\n",
    "print(arr7)\n",
    "##Remainder\n",
    "arr8 = np.mod(arr2, arr1)\n",
    "print(arr8)\n",
    "##QuotientAndMod\n",
    "arr9 = np.divmod(arr1, arr2)\n",
    "print(arr9)"
   ]
  },
  {
   "cell_type": "code",
   "execution_count": null,
   "id": "3e3c60ea",
   "metadata": {},
   "outputs": [],
   "source": [
    "\n"
   ]
  }
 ],
 "metadata": {
  "kernelspec": {
   "display_name": "Python 3",
   "language": "python",
   "name": "python3"
  },
  "language_info": {
   "codemirror_mode": {
    "name": "ipython",
    "version": 3
   },
   "file_extension": ".py",
   "mimetype": "text/x-python",
   "name": "python",
   "nbconvert_exporter": "python",
   "pygments_lexer": "ipython3",
   "version": "3.8.8"
  }
 },
 "nbformat": 4,
 "nbformat_minor": 5
}
