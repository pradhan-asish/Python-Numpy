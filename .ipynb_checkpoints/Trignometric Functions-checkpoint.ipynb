{
 "cells": [
  {
   "cell_type": "markdown",
   "id": "5ac149f0",
   "metadata": {},
   "source": [
    "##Trignometric Functions"
   ]
  },
  {
   "cell_type": "code",
   "execution_count": 10,
   "id": "a4a94b8c",
   "metadata": {},
   "outputs": [
    {
     "name": "stdout",
     "output_type": "stream",
     "text": [
      "0\n",
      "0.7071067811865476\n",
      "1.0\n",
      "0.0\n"
     ]
    }
   ],
   "source": [
    "##Sine Functions\n",
    "import numpy as np\n",
    "\n",
    "x = np.sin(np.pi)\n",
    "print(round(x))\n",
    "x = np.sin(np.pi/4)\n",
    "print(x)\n",
    "x = np.sin(np.pi/2)\n",
    "print(x)\n",
    "x = np.sin(0)\n",
    "print(x)"
   ]
  },
  {
   "cell_type": "code",
   "execution_count": 9,
   "id": "d0e952c8",
   "metadata": {},
   "outputs": [
    {
     "name": "stdout",
     "output_type": "stream",
     "text": [
      "0.7071067811865476\n",
      "0\n",
      "1.0\n"
     ]
    }
   ],
   "source": [
    "##Cosine functions\n",
    "import numpy as np\n",
    "\n",
    "x = np.cos(np.pi/4)\n",
    "print(x)\n",
    "x = np.cos(np.pi/2)\n",
    "print(round(x))\n",
    "x = np.cos(0)\n",
    "print(x)"
   ]
  },
  {
   "cell_type": "code",
   "execution_count": 11,
   "id": "8e64ee4d",
   "metadata": {},
   "outputs": [
    {
     "name": "stdout",
     "output_type": "stream",
     "text": [
      "[1.57079633 3.14159265 4.71238898 6.28318531]\n"
     ]
    }
   ],
   "source": [
    "##Degree to Radians\n",
    "import numpy as np\n",
    "arr = np.array([90, 180, 270, 360])\n",
    "x = np.deg2rad(arr)\n",
    "print(x)"
   ]
  },
  {
   "cell_type": "code",
   "execution_count": 14,
   "id": "4d30fb8b",
   "metadata": {},
   "outputs": [
    {
     "name": "stdout",
     "output_type": "stream",
     "text": [
      "1.5707963267948966\n"
     ]
    }
   ],
   "source": [
    "##To find the angles\n",
    "\n",
    "import numpy as np\n",
    "x = np.arcsin(1.0)\n",
    "print(x)"
   ]
  },
  {
   "cell_type": "code",
   "execution_count": null,
   "id": "fe73b43d",
   "metadata": {},
   "outputs": [],
   "source": []
  }
 ],
 "metadata": {
  "kernelspec": {
   "display_name": "Python 3",
   "language": "python",
   "name": "python3"
  },
  "language_info": {
   "codemirror_mode": {
    "name": "ipython",
    "version": 3
   },
   "file_extension": ".py",
   "mimetype": "text/x-python",
   "name": "python",
   "nbconvert_exporter": "python",
   "pygments_lexer": "ipython3",
   "version": "3.8.8"
  }
 },
 "nbformat": 4,
 "nbformat_minor": 5
}
