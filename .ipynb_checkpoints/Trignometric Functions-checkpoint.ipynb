{
 "cells": [
  {
   "cell_type": "markdown",
   "id": "68618b8e",
   "metadata": {},
   "source": [
    "##Trignometric Functions"
   ]
  },
  {
   "cell_type": "code",
   "execution_count": 7,
   "id": "4ceb02b1",
   "metadata": {},
   "outputs": [
    {
     "name": "stdout",
     "output_type": "stream",
     "text": [
      "0.7071067811865476\n",
      "1.0\n",
      "0.0\n"
     ]
    }
   ],
   "source": [
    "##Sine Functions\n",
    "import numpy as np\n",
    "\n",
    "x = np.sin(np.pi/4)\n",
    "print(x)\n",
    "x = np.sin(np.pi/2)\n",
    "print(x)\n",
    "x = np.sin(0)\n",
    "print(x)"
   ]
  },
  {
   "cell_type": "code",
   "execution_count": null,
   "id": "98a49152",
   "metadata": {},
   "outputs": [],
   "source": []
  }
 ],
 "metadata": {
  "kernelspec": {
   "display_name": "Python 3",
   "language": "python",
   "name": "python3"
  },
  "language_info": {
   "codemirror_mode": {
    "name": "ipython",
    "version": 3
   },
   "file_extension": ".py",
   "mimetype": "text/x-python",
   "name": "python",
   "nbconvert_exporter": "python",
   "pygments_lexer": "ipython3",
   "version": "3.8.8"
  }
 },
 "nbformat": 4,
 "nbformat_minor": 5
}
